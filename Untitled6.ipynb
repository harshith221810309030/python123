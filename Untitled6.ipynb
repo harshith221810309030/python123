{
 "cells": [
  {
   "cell_type": "markdown",
   "metadata": {},
   "source": [
    "# file heading in python\n",
    "## document contains info residing on perm.storage data types-doc, pdf,text,csv files and etc\n",
    "### open()- opens the file\n",
    "### close()- closes the file\n",
    "### \" r\"- for opening the file for reading\n",
    "### \"w\"- opens the file for writing,if the fileis not present it creates a file and then starts writing on it\n",
    "### \" a\" - appewnd mode also creates the file which doesnt exist"
   ]
  },
  {
   "cell_type": "code",
   "execution_count": null,
   "metadata": {},
   "outputs": [],
   "source": []
  },
  {
   "cell_type": "code",
   "execution_count": 1,
   "metadata": {},
   "outputs": [
    {
     "name": "stdout",
     "output_type": "stream",
     "text": [
      "file is created succesfully and data is written\n"
     ]
    }
   ],
   "source": [
    "def createfile(filename):\n",
    "    f= open(filename,\"w\")\n",
    "    for i in range(10):\n",
    "        f.write(\"this %d line\\n\"  %i)\n",
    "    print (\"file is created succesfully and data is written\")\n",
    "    f.close()\n",
    "    return\n",
    "createfile(\"file1.txt\")"
   ]
  },
  {
   "cell_type": "code",
   "execution_count": 2,
   "metadata": {},
   "outputs": [
    {
     "name": "stdout",
     "output_type": "stream",
     "text": [
      "this 0 line\n",
      "this 1 line\n",
      "this 2 line\n",
      "this 3 line\n",
      "this 4 line\n",
      "this 5 line\n",
      "this 6 line\n",
      "this 7 line\n",
      "this 8 line\n",
      "this 9 line\n",
      "\n"
     ]
    }
   ],
   "source": [
    "def readfile(filename):\n",
    "    f=open(filename,\"r\")\n",
    "    if f.mode ==\"r\":\n",
    "        x=f.read()\n",
    "        print(x)\n",
    "    f.close()\n",
    "    return\n",
    "readfile(\"file1.txt\")"
   ]
  },
  {
   "cell_type": "code",
   "execution_count": 5,
   "metadata": {},
   "outputs": [
    {
     "name": "stdout",
     "output_type": "stream",
     "text": [
      "this 0 line\n",
      "this 1 line\n",
      "this 2 line\n",
      "this 3 line\n",
      "this 4 line\n",
      "this 5 line\n",
      "this 6 line\n",
      "this 7 line\n",
      "this 8 line\n",
      "this 9 line\n",
      "\n"
     ]
    }
   ],
   "source": [
    "def readfile(filename):\n",
    "    f=open(filename,\"r\")\n",
    "    if f.mode==\"r\":\n",
    "        x=f.read()\n",
    "        print(x)\n",
    "    f.close()\n",
    "    return\n",
    "readfile(\"file1.txt\")\n",
    "    "
   ]
  },
  {
   "cell_type": "code",
   "execution_count": 4,
   "metadata": {},
   "outputs": [
    {
     "name": "stdout",
     "output_type": "stream",
     "text": [
      "this 0 line\n",
      "this 1 line\n",
      "this 2 line\n",
      "this 3 line\n",
      "this 4 line\n",
      "this 5 line\n",
      "this 6 line\n",
      "this 7 line\n",
      "this 8 line\n",
      "this 9 line\n",
      "\n"
     ]
    }
   ],
   "source": [
    "def readfile(filename):\n",
    "    f=open(filename,\"r\")\n",
    "    if f.mode==\"r\":\n",
    "        x=f.read()\n",
    "        print(x)\n",
    "    f.close()\n",
    "    return\n",
    "readfile(\"file1.txt\")"
   ]
  },
  {
   "cell_type": "code",
   "execution_count": null,
   "metadata": {},
   "outputs": [],
   "source": [
    "# data to append\n",
    "def appendData(filename):\n",
    "    f=open(filename,\"a\")\n",
    "    f= write(\"new line 1\\n\")\n",
    "    f=write(\"new line 2\\n\")\n",
    "    \n",
    "    \n",
    "    return\n",
    "\n",
    "appendData(\"file1.txt\")"
   ]
  },
  {
   "cell_type": "code",
   "execution_count": 11,
   "metadata": {},
   "outputs": [
    {
     "name": "stdout",
     "output_type": "stream",
     "text": [
      "0\n"
     ]
    }
   ],
   "source": [
    "def dataanalysiswordcount(filename,word):\n",
    "    f=open(filename,\"r\")\n",
    "    if f.mode ==\"r\":\n",
    "        x=f.read()\n",
    "        lst=x.split()\n",
    "    cnt=lst.count(word)\n",
    "    return cnt\n",
    "print (dataanalysiswordcount(\"file1.txt\",\"rest\"))\n",
    "\n",
    "    "
   ]
  },
  {
   "cell_type": "code",
   "execution_count": 13,
   "metadata": {},
   "outputs": [
    {
     "name": "stdout",
     "output_type": "stream",
     "text": [
      "120\n"
     ]
    }
   ],
   "source": [
    "# function to count characters in afile\n",
    "def countCharacters(filename):\n",
    "    f=open(filename,\"r\")\n",
    "    if f.mode ==\"r\":\n",
    "        x=f.read()\n",
    "        lst= list(x)\n",
    "    return len(lst)\n",
    "print(countCharacters(\"file1.txt\"))\n"
   ]
  },
  {
   "cell_type": "code",
   "execution_count": 20,
   "metadata": {},
   "outputs": [
    {
     "name": "stdout",
     "output_type": "stream",
     "text": [
      "0\n"
     ]
    }
   ],
   "source": [
    "# count the uppercase characters in the file\n",
    "def countuppercase(filename):\n",
    "    count=0\n",
    "    f=open(filename,\"r\")\n",
    "    if f.mode==\"r\":\n",
    "        x=f.read()\n",
    "        lst=list(x)\n",
    "    for i in filename:\n",
    "        if i.isupper():\n",
    "            count +=1\n",
    "        return count\n",
    "print(countuppercase(\"file1.txt\"))"
   ]
  },
  {
   "cell_type": "code",
   "execution_count": 23,
   "metadata": {},
   "outputs": [
    {
     "data": {
      "text/plain": [
       "11"
      ]
     },
     "execution_count": 23,
     "metadata": {},
     "output_type": "execute_result"
    }
   ],
   "source": [
    "# functio to count the no.of lines in given file\n",
    "def numoflines(filename):\n",
    "    f=open(filename,\"r\")\n",
    "    if f.mode==\"r\":\n",
    "        x=f.read()\n",
    "        lst=x.split(\"\\n\")\n",
    "    return  len(lst)    \n",
    "numoflines(\"file1.txt\")        \n",
    "      "
   ]
  },
  {
   "cell_type": "markdown",
   "metadata": {},
   "source": [
    "# Regular expressions\n",
    "### PATTERN MATCHING\n",
    "### SYMBOLIC NATURE  OF A PATTERN\n",
    "#### [0-9]-->any digit\n",
    "#### [A-Z] -->uppercasae char"
   ]
  },
  {
   "cell_type": "code",
   "execution_count": 9,
   "metadata": {},
   "outputs": [
    {
     "name": "stdout",
     "output_type": "stream",
     "text": [
      "True\n",
      "False\n"
     ]
    }
   ],
   "source": [
    "import re\n",
    "def phoneNumberValidate(phone):\n",
    "    pattern='^[6-9][0-9]{9}$| ^[0][6-9][0-9]{9}$^|^[+][9][1][6-9][0-9]$'\n",
    "    phone = str(phone)\n",
    "    if re.match(pattern,phone):\n",
    "        return True\n",
    "    return False\n",
    "print(phoneNumberValidate(+9873348407))\n",
    "print(phoneNumberValidate(700564366))"
   ]
  },
  {
   "cell_type": "code",
   "execution_count": 23,
   "metadata": {},
   "outputs": [
    {
     "name": "stdout",
     "output_type": "stream",
     "text": [
      "True\n"
     ]
    }
   ],
   "source": [
    "import re\n",
    "def phoneNumberValidate(phone):\n",
    "    pattern='^[6-9][0-9]{9}$|^[0][6-9][0-9]{9}$|^[+][9][1][6-9][0-9]{9}$'\n",
    "    phone =str(phone)\n",
    "    if re.match(pattern,phone):\n",
    "        return True\n",
    "    return False\n",
    "print(phoneNumberValidate(\"09005664643\"))"
   ]
  },
  {
   "cell_type": "code",
   "execution_count": 27,
   "metadata": {},
   "outputs": [
    {
     "name": "stdout",
     "output_type": "stream",
     "text": [
      "True\n"
     ]
    }
   ],
   "source": [
    "import re\n",
    "def validateRollNumber(number):\n",
    "    number=str(number)\n",
    "    pattern=\"^[V][0][0][0][1][4][1-9][0-6][0-9]$\"\n",
    "    if re.match(pattern,number):\n",
    "        return True\n",
    "    return False\n",
    "print(validateRollNumber(\"V00014157\"))"
   ]
  },
  {
   "cell_type": "code",
   "execution_count": null,
   "metadata": {},
   "outputs": [],
   "source": [
    "### email id verification\n",
    "### Username@DomainName.extension\n",
    "###  limitations-\n",
    "\n",
    "### username-\n",
    "#### 1) nothing should begin with _\n",
    "#### 2)no spl char\n",
    "#### 3) everything should begin with lowercase and number\n",
    "\n",
    "### domain name -\n",
    "#### 1)length[3,18]\n",
    "#### 2)no spl char\n",
    "#### 3)everything should be in numand lorcase alphabets\n",
    "\n",
    "### extension-\n",
    "#### 1)length[2,4]\n",
    "#### 2)no spl char\n",
    "#### 3)everything should be in numand lorcase alphabets"
   ]
  },
  {
   "cell_type": "code",
   "execution_count": 34,
   "metadata": {},
   "outputs": [
    {
     "name": "stdout",
     "output_type": "stream",
     "text": [
      "True\n"
     ]
    }
   ],
   "source": [
    "import re\n",
    "def validateemailId(email):\n",
    "    pattern=\"^[0-9a-z][0-9a-z_.]{4,13}[0-9a-z][@][a-z0-9]{3,18}[.][a-z]{2,4}$\"\n",
    "    if re.match(pattern,email):\n",
    "        return True\n",
    "    return False\n",
    "print(validateemailId('munolf@gmail.com'))"
   ]
  },
  {
   "cell_type": "code",
   "execution_count": 40,
   "metadata": {},
   "outputs": [
    {
     "name": "stdout",
     "output_type": "stream",
     "text": [
      "True\n"
     ]
    }
   ],
   "source": [
    "import re\n",
    "def validatePassword(passc):\n",
    "    pattern=\"^[a-zA-z0-9.!.@.$.%]{6,15}$\"\n",
    "    if re.match(pattern,passc):\n",
    "        return True\n",
    "    return False\n",
    "print(validatePassword('mun0opu'))"
   ]
  },
  {
   "cell_type": "code",
   "execution_count": 48,
   "metadata": {},
   "outputs": [
    {
     "name": "stdout",
     "output_type": "stream",
     "text": [
      "file is created and data is written\n"
     ]
    }
   ],
   "source": [
    "def createfile(filename):\n",
    "    f=open(filename, \"w\")\n",
    "    f.write(\"\"\"Google LLC is an American multinational technology company that sInternet-related services  products, which include online advertising technologies,search engine, cloud computing, software, and hardware. It is considered one of the Big Four  technology companies, alongside Amazon, Apple and Facebook.\\n\"\"\" )\n",
    "    print(\"file is created and data is written\")\n",
    "    f.close()\n",
    "    return\n",
    "createfile(\"file1.txt\")\n",
    "                \n",
    "                \n"
   ]
  },
  {
   "cell_type": "code",
   "execution_count": 49,
   "metadata": {},
   "outputs": [
    {
     "name": "stdout",
     "output_type": "stream",
     "text": [
      "1\n"
     ]
    }
   ],
   "source": [
    "def countlowercase(filename):\n",
    "    count=0\n",
    "    f=open(filename,\"r\")\n",
    "    if f.mode==\"r\":\n",
    "        x=f.read()\n",
    "        lst=list(x)\n",
    "    for i in filename:\n",
    "        if i.islower():\n",
    "            count +=1\n",
    "        return count\n",
    "print(countlowercase(\"file1.txt\"))"
   ]
  },
  {
   "cell_type": "code",
   "execution_count": 50,
   "metadata": {},
   "outputs": [
    {
     "name": "stdout",
     "output_type": "stream",
     "text": [
      "file is created and data is written\n"
     ]
    }
   ],
   "source": [
    "def createfile(filename):\n",
    "    f=open(filename, \"w\")\n",
    "    f.write(\"\"\"Google LLC is an American multinational technology company that sInternet-related services  products, which include online advertising technologies,search engine, cloud computing, software, and hardware. It is considered one of the Big Four  technology companies, alongside Amazon, Apple and Facebook.\\n\"\"\" )\n",
    "    print(\"file is created and data is written\")\n",
    "    f.close()\n",
    "    return\n",
    "createfile(\"file2.txt\")\n",
    "                \n",
    "                "
   ]
  },
  {
   "cell_type": "code",
   "execution_count": 53,
   "metadata": {},
   "outputs": [
    {
     "name": "stdout",
     "output_type": "stream",
     "text": [
      "1\n"
     ]
    }
   ],
   "source": [
    "def countlowercase(filename):\n",
    "    count=0\n",
    "    f=open(filename,\"r\")\n",
    "    if f.mode==\"r\":\n",
    "        x=f.read()\n",
    "        lst=list(x)\n",
    "    for i in filename:\n",
    "        if i.islower():\n",
    "            count= count +1\n",
    "        return count\n",
    "print(countlowercase(\"file2.txt\"))"
   ]
  },
  {
   "cell_type": "code",
   "execution_count": 55,
   "metadata": {},
   "outputs": [
    {
     "name": "stdout",
     "output_type": "stream",
     "text": [
      "302\n"
     ]
    }
   ],
   "source": [
    "def countCharacters(filename):\n",
    "    f=open(filename,\"r\")\n",
    "    if f.mode ==\"r\":\n",
    "        x=f.read()\n",
    "        lst= list(x)\n",
    "    return len(lst)\n",
    "print(countCharacters(\"file2.txt\"))\n"
   ]
  },
  {
   "cell_type": "code",
   "execution_count": 58,
   "metadata": {},
   "outputs": [
    {
     "name": "stdout",
     "output_type": "stream",
     "text": [
      "10\n"
     ]
    }
   ],
   "source": [
    "def countSplChar(filename):\n",
    "    count=0\n",
    "    f=open(filename,\"r\")\n",
    "    if f.mode ==\"r\" :\n",
    "        x =f.read()\n",
    "        lst=(list(x))\n",
    "    for x in range   (len(lst)):\n",
    "        if  ord(lst[x])>= 33 and ord(lst[x])<47:\n",
    "            count=count+1\n",
    "        elif ord(lst[x])>=64 and lst[x]==\"\\n\":\n",
    "            count=count+1\n",
    "    return count\n",
    "print(countSplChar(\"file2.txt\"))"
   ]
  },
  {
   "cell_type": "code",
   "execution_count": null,
   "metadata": {},
   "outputs": [],
   "source": []
  }
 ],
 "metadata": {
  "kernelspec": {
   "display_name": "Python 3",
   "language": "python",
   "name": "python3"
  },
  "language_info": {
   "codemirror_mode": {
    "name": "ipython",
    "version": 3
   },
   "file_extension": ".py",
   "mimetype": "text/x-python",
   "name": "python",
   "nbconvert_exporter": "python",
   "pygments_lexer": "ipython3",
   "version": "3.7.3"
  }
 },
 "nbformat": 4,
 "nbformat_minor": 2
}
