{
 "cells": [
  {
   "cell_type": "markdown",
   "metadata": {},
   "source": [
    "### FUNCTIONAL  PROGRAMMING IN C\n"
   ]
  },
  {
   "cell_type": "code",
   "execution_count": 1,
   "metadata": {},
   "outputs": [
    {
     "name": "stdout",
     "output_type": "stream",
     "text": [
      "90\n"
     ]
    }
   ],
   "source": [
    "def printEven(n):\n",
    "    count=0\n",
    "    sum=0\n",
    "    while(count!=n):\n",
    "        if(count%2==0):\n",
    "            sum=sum+count\n",
    "        count=count+1 \n",
    "    return sum\n",
    "print(printEven(20))    "
   ]
  },
  {
   "cell_type": "code",
   "execution_count": 15,
   "metadata": {},
   "outputs": [
    {
     "name": "stdout",
     "output_type": "stream",
     "text": [
      "1 2 3 4 6 "
     ]
    }
   ],
   "source": [
    "def factorList(n):\n",
    "    i=1\n",
    "    while(i!=n):\n",
    "        if(n%i==0):\n",
    "            print(i,end=\" \")\n",
    "        i=i+1\n",
    "    return\n",
    "\n",
    "factorList(12)\n"
   ]
  },
  {
   "cell_type": "markdown",
   "metadata": {},
   "source": [
    "# LIST IN PYTHON\n"
   ]
  },
  {
   "cell_type": "code",
   "execution_count": 3,
   "metadata": {},
   "outputs": [
    {
     "name": "stdout",
     "output_type": "stream",
     "text": [
      "[1, 2, 3, 4, 5]\n",
      "1\n"
     ]
    }
   ],
   "source": [
    "list1=[1,2,3,4,5]\n",
    "#Entire list\n",
    "print(list1)\n",
    "#list[0]\n",
    "print(list1[0])"
   ]
  },
  {
   "cell_type": "markdown",
   "metadata": {},
   "source": [
    "### for loop"
   ]
  },
  {
   "cell_type": "code",
   "execution_count": 6,
   "metadata": {},
   "outputs": [
    {
     "name": "stdout",
     "output_type": "stream",
     "text": [
      "1 2 3 4 5 \n",
      "5\n",
      "[4, 5]\n",
      "[1, 2, 3]\n"
     ]
    }
   ],
   "source": [
    "list1=[1,2,3,4,5]\n",
    "for x in list1:\n",
    "    print(x,end =\" \")\n",
    "    \n",
    "print()\n",
    "print(list1[4])\n",
    "print(list1[3:6])\n",
    "print(list1[:3])"
   ]
  },
  {
   "cell_type": "code",
   "execution_count": 12,
   "metadata": {},
   "outputs": [
    {
     "name": "stdout",
     "output_type": "stream",
     "text": [
      "1 2 3 4 5 6 7 8 9 10 \n",
      "[2, 3, 4, 5, 6, 7, 8, 9]\n",
      "[3, 4, 5, 6, 7, 8]\n",
      "[1, 3, 5, 7, 9]\n",
      "[1, 4, 7, 10]\n",
      "[10, 8, 6, 4, 2]\n",
      "9\n"
     ]
    }
   ],
   "source": [
    "list1=[1,2,3,4,5,6,7,8,9,10]\n",
    "for x in list1:\n",
    "    print(x,end=\" \")\n",
    "print()\n",
    "print(list1[1:-1])\n",
    "print(list1[2:-2])\n",
    "print(list1[::2])\n",
    "print(list1[::3])\n",
    "print(list1[::-2])\n",
    "print(list1[-2])"
   ]
  },
  {
   "cell_type": "code",
   "execution_count": 20,
   "metadata": {},
   "outputs": [
    {
     "name": "stdout",
     "output_type": "stream",
     "text": [
      "[' red1', 'red2', 'red3', 'red4', 1]\n",
      "[' red1', 'red2', 'gitam', 'red4', 1]\n",
      "[' red1', 'red2', 'gitam', 1]\n",
      "[1, 2, 3]\n",
      "[' red1', 'red2', 'gitam', 1, 1, 2, 3]\n",
      "4\n",
      "[' red1', 'red2', 'gitam', 1, 15]\n"
     ]
    },
    {
     "data": {
      "text/plain": [
       "0"
      ]
     },
     "execution_count": 20,
     "metadata": {},
     "output_type": "execute_result"
    }
   ],
   "source": [
    "list1= [\" red1\",\"red2\" ,\"red3\" ,\"red4\",1]\n",
    "print(list1)\n",
    "\n",
    "list1[2]= \"gitam\"\n",
    "print(list1)\n",
    "\n",
    "del list1[3]\n",
    "print(list1)\n",
    "\n",
    "list2= [1,2,3]\n",
    "print(list2)\n",
    "print(list1+list2)\n",
    "print(len(list1))\n",
    "list1.append(15)\n",
    "print(list1)\n",
    "list1.count(1)\n",
    "list1.count(9)"
   ]
  },
  {
   "cell_type": "markdown",
   "metadata": {},
   "source": [
    "##### index(obj)"
   ]
  },
  {
   "cell_type": "code",
   "execution_count": 22,
   "metadata": {},
   "outputs": [
    {
     "name": "stdout",
     "output_type": "stream",
     "text": [
      "['red1', 'red2', 'red3', 'red4', 1, 5, 'red5', 'red6 ']\n",
      "['red1', 'red2', 2019, 'red3', 'red4', 1, 5, 'red5', 'red6 ']\n",
      "9\n"
     ]
    }
   ],
   "source": [
    "list1=[\"red1\",\"red2\",\"red3\",\"red4\",1,5 ,\"red5\",\"red6 \"]\n",
    "print(list1)\n",
    "list1.index(\"red1\")\n",
    "list1.index(1)\n",
    "list1.index(1)\n",
    "list1.insert(2,2019)\n",
    "print(list1)\n",
    "print(len(list1))"
   ]
  },
  {
   "cell_type": "markdown",
   "metadata": {},
   "source": [
    "### remove(obj)\n"
   ]
  },
  {
   "cell_type": "code",
   "execution_count": 23,
   "metadata": {},
   "outputs": [
    {
     "name": "stdout",
     "output_type": "stream",
     "text": [
      "['red1', 'red2', 1, 5, 'red4,red5']\n"
     ]
    }
   ],
   "source": [
    "lst1=[\"red1\",\"red2\",\"red3\", 1,5,\"red4,\" \"red5\"]\n",
    "lst1.remove(\"red3\")\n",
    "print(lst1)"
   ]
  },
  {
   "cell_type": "markdown",
   "metadata": {},
   "source": [
    "### reverse(obj)"
   ]
  },
  {
   "cell_type": "code",
   "execution_count": 24,
   "metadata": {},
   "outputs": [
    {
     "name": "stdout",
     "output_type": "stream",
     "text": [
      "['red3', 'red2', 'red1']\n"
     ]
    }
   ],
   "source": [
    "lst1=[\"red1\",\"red2\",\"red3\"]\n",
    "lst1.reverse()\n",
    "print(lst1)"
   ]
  },
  {
   "cell_type": "markdown",
   "metadata": {},
   "source": [
    "# DATA STRUCTURES\n"
   ]
  },
  {
   "cell_type": "markdown",
   "metadata": {},
   "source": [
    "### LINEAR SEARCH"
   ]
  },
  {
   "cell_type": "code",
   "execution_count": 28,
   "metadata": {},
   "outputs": [
    {
     "name": "stdout",
     "output_type": "stream",
     "text": [
      "target  item is found\n"
     ]
    }
   ],
   "source": [
    "def linearSearch(a,tarItem):\n",
    "    flag=0;\n",
    "    for i in range(len(a)):\n",
    "        if a[i] == tarItem:\n",
    "            flag=1\n",
    "            break\n",
    "    if(flag!=0):\n",
    "         print(\"target  item is found\")\n",
    "    else:\n",
    "             print(\"target is found\")\n",
    "a=[1,34,61,56,5]  \n",
    "linearSearch(a,61)"
   ]
  },
  {
   "cell_type": "code",
   "execution_count": 33,
   "metadata": {},
   "outputs": [
    {
     "name": "stdout",
     "output_type": "stream",
     "text": [
      "234566"
     ]
    }
   ],
   "source": [
    "arr= [1,2,3,4,5, 6]\n",
    "for i in range (1,6):\n",
    "    arr[i-1]=arr[i]\n",
    "for i in range(0,6):\n",
    "    print((arr[i]),end=\"\")\n",
    "    "
   ]
  },
  {
   "cell_type": "markdown",
   "metadata": {},
   "source": [
    "# l.s example"
   ]
  },
  {
   "cell_type": "markdown",
   "metadata": {},
   "source": [
    "###### input : a list\n",
    "###### output : a sequence of chars\n",
    "###### test cases:\n",
    "###### [1,5,9,6,5,12,5], tar=5 - ! !! !!! !!!! !!!!!"
   ]
  },
  {
   "cell_type": "code",
   "execution_count": 42,
   "metadata": {},
   "outputs": [
    {
     "name": "stdout",
     "output_type": "stream",
     "text": [
      "!! !!!!! !!!!!!! "
     ]
    }
   ],
   "source": [
    "def linearRed(a, taritem):\n",
    "    for i in range(len(a)):\n",
    "        if a[i]==taritem:\n",
    "            print(\"!\"*(i+1 ),end = \" \")\n",
    "a=[1,5,9,6,5,12,5]\n",
    "linearRed(a, 5)"
   ]
  },
  {
   "cell_type": "markdown",
   "metadata": {},
   "source": [
    "### input: list\n",
    "### output : as per the given \n",
    "#### test case:\n",
    "[15,12, 2,9,18,36,45]\n",
    "### a list item should be mulof 3 and 5\n",
    "### sumof all the items which is perfect mul of 3 and 5"
   ]
  },
  {
   "cell_type": "code",
   "execution_count": 48,
   "metadata": {},
   "outputs": [
    {
     "name": "stdout",
     "output_type": "stream",
     "text": [
      "60\n"
     ]
    }
   ],
   "source": [
    "def linearMul(a):\n",
    "    sum=0\n",
    "    for i in range(len(a)):\n",
    "        if (a[i]%3==0 and a[i]%5==0):\n",
    "           \n",
    "            sum =sum+a[i]\n",
    "    return sum             \n",
    "a=[15,12,2,9,18,36,45]    \n",
    "print(linearMul(a))                  "
   ]
  },
  {
   "cell_type": "code",
   "execution_count": 52,
   "metadata": {},
   "outputs": [
    {
     "name": "stdout",
     "output_type": "stream",
     "text": [
      "13815"
     ]
    },
    {
     "ename": "IndexError",
     "evalue": "list index out of range",
     "output_type": "error",
     "traceback": [
      "\u001b[1;31m---------------------------------------------------------------------------\u001b[0m",
      "\u001b[1;31mIndexError\u001b[0m                                Traceback (most recent call last)",
      "\u001b[1;32m<ipython-input-52-992869a48c86>\u001b[0m in \u001b[0;36m<module>\u001b[1;34m\u001b[0m\n\u001b[0;32m      6\u001b[0m             \u001b[0mprint\u001b[0m\u001b[1;33m(\u001b[0m\u001b[0ma\u001b[0m\u001b[1;33m[\u001b[0m\u001b[0mi\u001b[0m\u001b[1;33m-\u001b[0m\u001b[1;36m1\u001b[0m\u001b[1;33m]\u001b[0m\u001b[1;33m*\u001b[0m\u001b[0ma\u001b[0m\u001b[1;33m[\u001b[0m\u001b[0mi\u001b[0m\u001b[1;33m+\u001b[0m\u001b[1;36m1\u001b[0m\u001b[1;33m]\u001b[0m\u001b[1;33m,\u001b[0m\u001b[0mend\u001b[0m\u001b[1;33m=\u001b[0m\u001b[1;34m\"\"\u001b[0m\u001b[1;33m)\u001b[0m\u001b[1;33m\u001b[0m\u001b[1;33m\u001b[0m\u001b[0m\n\u001b[0;32m      7\u001b[0m \u001b[0ma\u001b[0m\u001b[1;33m=\u001b[0m\u001b[1;33m[\u001b[0m\u001b[1;36m1\u001b[0m\u001b[1;33m,\u001b[0m\u001b[1;36m2\u001b[0m\u001b[1;33m,\u001b[0m\u001b[1;36m3\u001b[0m\u001b[1;33m,\u001b[0m\u001b[1;36m4\u001b[0m\u001b[1;33m,\u001b[0m\u001b[1;36m5\u001b[0m\u001b[1;33m]\u001b[0m\u001b[1;33m\u001b[0m\u001b[1;33m\u001b[0m\u001b[0m\n\u001b[1;32m----> 8\u001b[1;33m \u001b[0mlinearformattedoutput\u001b[0m\u001b[1;33m(\u001b[0m\u001b[0ma\u001b[0m\u001b[1;33m)\u001b[0m\u001b[1;33m\u001b[0m\u001b[1;33m\u001b[0m\u001b[0m\n\u001b[0m",
      "\u001b[1;32m<ipython-input-52-992869a48c86>\u001b[0m in \u001b[0;36mlinearformattedoutput\u001b[1;34m(a)\u001b[0m\n\u001b[0;32m      4\u001b[0m             \u001b[0mprint\u001b[0m\u001b[1;33m(\u001b[0m\u001b[0ma\u001b[0m\u001b[1;33m[\u001b[0m\u001b[0mi\u001b[0m\u001b[1;33m]\u001b[0m\u001b[1;33m,\u001b[0m\u001b[0mend\u001b[0m\u001b[1;33m=\u001b[0m\u001b[1;34m\"\"\u001b[0m\u001b[1;33m)\u001b[0m\u001b[1;33m\u001b[0m\u001b[1;33m\u001b[0m\u001b[0m\n\u001b[0;32m      5\u001b[0m         \u001b[1;32melse\u001b[0m\u001b[1;33m:\u001b[0m\u001b[1;33m\u001b[0m\u001b[1;33m\u001b[0m\u001b[0m\n\u001b[1;32m----> 6\u001b[1;33m             \u001b[0mprint\u001b[0m\u001b[1;33m(\u001b[0m\u001b[0ma\u001b[0m\u001b[1;33m[\u001b[0m\u001b[0mi\u001b[0m\u001b[1;33m-\u001b[0m\u001b[1;36m1\u001b[0m\u001b[1;33m]\u001b[0m\u001b[1;33m*\u001b[0m\u001b[0ma\u001b[0m\u001b[1;33m[\u001b[0m\u001b[0mi\u001b[0m\u001b[1;33m+\u001b[0m\u001b[1;36m1\u001b[0m\u001b[1;33m]\u001b[0m\u001b[1;33m,\u001b[0m\u001b[0mend\u001b[0m\u001b[1;33m=\u001b[0m\u001b[1;34m\"\"\u001b[0m\u001b[1;33m)\u001b[0m\u001b[1;33m\u001b[0m\u001b[1;33m\u001b[0m\u001b[0m\n\u001b[0m\u001b[0;32m      7\u001b[0m \u001b[0ma\u001b[0m\u001b[1;33m=\u001b[0m\u001b[1;33m[\u001b[0m\u001b[1;36m1\u001b[0m\u001b[1;33m,\u001b[0m\u001b[1;36m2\u001b[0m\u001b[1;33m,\u001b[0m\u001b[1;36m3\u001b[0m\u001b[1;33m,\u001b[0m\u001b[1;36m4\u001b[0m\u001b[1;33m,\u001b[0m\u001b[1;36m5\u001b[0m\u001b[1;33m]\u001b[0m\u001b[1;33m\u001b[0m\u001b[1;33m\u001b[0m\u001b[0m\n\u001b[0;32m      8\u001b[0m \u001b[0mlinearformattedoutput\u001b[0m\u001b[1;33m(\u001b[0m\u001b[0ma\u001b[0m\u001b[1;33m)\u001b[0m\u001b[1;33m\u001b[0m\u001b[1;33m\u001b[0m\u001b[0m\n",
      "\u001b[1;31mIndexError\u001b[0m: list index out of range"
     ]
    }
   ],
   "source": [
    "def linearformattedoutput(a):\n",
    "    for i in range(len(a)):\n",
    "        if i==0 or (1==len(a)):\n",
    "            print(a[i],end=\"\")\n",
    "        else:\n",
    "            print(a[i-1]*a[i+1],end=\"\")\n",
    "a=[1,2,3,4,5]\n",
    "linearformattedoutput(a)"
   ]
  },
  {
   "cell_type": "markdown",
   "metadata": {},
   "source": [
    "### 1,6,9,4,16,19,22\n",
    "### formatted output\n"
   ]
  },
  {
   "cell_type": "code",
   "execution_count": 59,
   "metadata": {},
   "outputs": [
    {
     "name": "stdout",
     "output_type": "stream",
     "text": [
      "191922"
     ]
    }
   ],
   "source": [
    "def linearEg3(a):\n",
    "    for i in range(len(a)):\n",
    "        if (i==0) or i==len(a)-1:\n",
    "            print(a[i], end=\"\")\n",
    "        elif a[i-1]%2==0 and a[i+1]%2==0:\n",
    "            print(a[i], end =\"\")\n",
    "a=[1,6,9,4,16,19,22]            \n",
    "linearEg3(a)"
   ]
  },
  {
   "cell_type": "markdown",
   "metadata": {},
   "source": [
    "### INPUT: NUMBER\n",
    "### OUTPUT: LIST\n",
    "#### test cases:\n",
    "#### 14567-1,4,5,6,7\n",
    "#### 1974 -1,9,7,4"
   ]
  },
  {
   "cell_type": "code",
   "execution_count": 65,
   "metadata": {},
   "outputs": [
    {
     "name": "stdout",
     "output_type": "stream",
     "text": [
      "enter a no.678\n",
      "[6, 7, 8]\n"
     ]
    }
   ],
   "source": [
    "def numbertolistConversion(n):\n",
    "    lst=[]\n",
    "    while n!=0:\n",
    "        r=n%10\n",
    "        lst.append(r)\n",
    "        n=n//10\n",
    "    lst.reverse()\n",
    "    print(lst)\n",
    "n=int(input(\"enter a no.\"))\n",
    "numbertolistConversion(n)"
   ]
  },
  {
   "cell_type": "markdown",
   "metadata": {},
   "source": [
    "### list to number conversion\n",
    "###### 1 [1,4,5,6,7]  -14567\n",
    "###### 2 [1,4,5,6,7]  -46(consider only even  no.s in the list)\n",
    "###### 3[14567]-46(consideronly even no.s in the list)"
   ]
  },
  {
   "cell_type": "code",
   "execution_count": 67,
   "metadata": {},
   "outputs": [
    {
     "name": "stdout",
     "output_type": "stream",
     "text": [
      "14569"
     ]
    }
   ],
   "source": [
    " def listtonumber(a):\n",
    "        for i in a:\n",
    "            print(i,end=\"\")\n",
    "a=[1,4,5,6,9]\n",
    "listtonumber(a)"
   ]
  },
  {
   "cell_type": "code",
   "execution_count": 70,
   "metadata": {},
   "outputs": [
    {
     "name": "stdout",
     "output_type": "stream",
     "text": [
      "46"
     ]
    }
   ],
   "source": [
    "def listtonumber(a):\n",
    "    for i in a:\n",
    "        if(i%2==0):\n",
    "            print(i,end=\"\")\n",
    "a=[1,4,5,6,7]\n",
    "listtonumber(a)"
   ]
  },
  {
   "cell_type": "code",
   "execution_count": 71,
   "metadata": {},
   "outputs": [
    {
     "name": "stdout",
     "output_type": "stream",
     "text": [
      "enter a number14569\n",
      "[4, 6]\n"
     ]
    }
   ],
   "source": [
    "def numbertolistconversion(n):\n",
    "    lst=[]\n",
    "    while n!=0:\n",
    "        r=n%10\n",
    "        if(r%2==0):\n",
    "            lst.append(r)\n",
    "        n=n//10\n",
    "    lst.reverse()\n",
    "    print(lst)\n",
    "    \n",
    "    \n",
    "n=int(input(\"enter a number\"))\n",
    "numbertolistconversion(n)"
   ]
  },
  {
   "cell_type": "markdown",
   "metadata": {},
   "source": [
    "##### 1,2,3,4,5 - 1,4,3,6,5\n",
    "##### 15, 19,12,16,4 - 15,34,31,28,4"
   ]
  },
  {
   "cell_type": "code",
   "execution_count": 80,
   "metadata": {},
   "outputs": [
    {
     "name": "stdout",
     "output_type": "stream",
     "text": [
      "1 4 3 16 5 "
     ]
    }
   ],
   "source": [
    "def lineareg5(a):\n",
    "    for i in range(len(a)):\n",
    "        if(a[i]%2==0) :\n",
    "            print(a[i]*a[i],end=\" \")\n",
    "        else :\n",
    "            print(a[i],end=\" \")\n",
    "a= [1,2,3,4,5] \n",
    "lineareg5(a)\n",
    "            \n",
    "    "
   ]
  },
  {
   "cell_type": "code",
   "execution_count": 83,
   "metadata": {},
   "outputs": [
    {
     "name": "stdout",
     "output_type": "stream",
     "text": [
      "15 34 31 28 4 "
     ]
    }
   ],
   "source": [
    "def lineareg5(a):\n",
    "    for i in range(len(a)):\n",
    "        if(i==0 or i==len(a)-1) :\n",
    "            print(a[i],end=\" \")\n",
    "        else :\n",
    "            print(a[i-1]+a[i],end=\" \")\n",
    "a= [15,19,12,16,4] \n",
    "lineareg5(a)"
   ]
  },
  {
   "cell_type": "code",
   "execution_count": 2,
   "metadata": {},
   "outputs": [
    {
     "name": "stdout",
     "output_type": "stream",
     "text": [
      "2 "
     ]
    }
   ],
   "source": [
    "def printsum(str):\n",
    "    sum=0\n",
    "    lst=list(str)\n",
    "    for x in range(len(lst)):\n",
    "        if ord(lst[x])>=48 and ord(lst[x])<=57:\n",
    "            sum=sum+ord(lst[x])-48\n",
    "    print(sum,end=\" \")\n",
    "printsum(\"Muno2000\")     \n",
    "        "
   ]
  },
  {
   "cell_type": "markdown",
   "metadata": {},
   "source": [
    "##### print digits in a string\n",
    "\n"
   ]
  },
  {
   "cell_type": "code",
   "execution_count": 5,
   "metadata": {},
   "outputs": [
    {
     "name": "stdout",
     "output_type": "stream",
     "text": [
      "2000"
     ]
    }
   ],
   "source": [
    "def printdigits(str):\n",
    "    lst=list(str)\n",
    "    for x in range(len(lst)):\n",
    "        if ord(lst[x])>=48 and ord(lst[x])<=57:\n",
    "               print(lst[x],end=\"\")\n",
    "printdigits(\"muno2000\")               \n",
    "    "
   ]
  },
  {
   "cell_type": "markdown",
   "metadata": {},
   "source": [
    "#### strings- add only even digits to sum\n",
    "#### test case:\n",
    "##### applicatio1889 ---16"
   ]
  },
  {
   "cell_type": "code",
   "execution_count": 12,
   "metadata": {},
   "outputs": [
    {
     "name": "stdout",
     "output_type": "stream",
     "text": [
      "10"
     ]
    }
   ],
   "source": [
    "def printeven(str):\n",
    "    sum=0\n",
    "    lst=list(str)\n",
    "    for x in range (len(lst)):\n",
    "        if ord(lst[x])>=48 and ord(lst[x])<=57:\n",
    "              if (ord(lst[x])%2==0):\n",
    "                  sum= sum +ord(lst[x])-48\n",
    "    print(sum,end=\"\")\n",
    "printeven(\"muno3456\")\n",
    "    "
   ]
  },
  {
   "cell_type": "markdown",
   "metadata": {},
   "source": [
    "# BINARY SEARCH"
   ]
  },
  {
   "cell_type": "code",
   "execution_count": 17,
   "metadata": {},
   "outputs": [
    {
     "ename": "SyntaxError",
     "evalue": "invalid syntax (<ipython-input-17-e3125683db33>, line 4)",
     "output_type": "error",
     "traceback": [
      "\u001b[1;36m  File \u001b[1;32m\"<ipython-input-17-e3125683db33>\"\u001b[1;36m, line \u001b[1;32m4\u001b[0m\n\u001b[1;33m    if(a[midIndex])==tarItem):\u001b[0m\n\u001b[1;37m                            ^\u001b[0m\n\u001b[1;31mSyntaxError\u001b[0m\u001b[1;31m:\u001b[0m invalid syntax\n"
     ]
    }
   ],
   "source": [
    "def binarysearch(a,lIndex,rIndex,tarItem):\n",
    "    while lindex<=rindex:\n",
    "        midIndex= lIndex+(rIndex-lIndex)//2\n",
    "        if(a[midIndex])==tarItem):\n",
    "            return midIndex\n",
    "        if(a[midIndex])> tarItem):\n",
    "            rindex=midIndex -1\n",
    "        else:\n",
    "            lIndex= midIndex +1\n",
    "    return-1\n",
    "list1=[1,4,9,15,25,45,57,88,98]\n",
    "res=binarySearch(list1,0,4,8,45)\n",
    "if res!=-1:\n",
    "    print(\"item is found\")\n",
    "else:\n",
    "    print(\"item is not found\")\n",
    "    "
   ]
  },
  {
   "cell_type": "code",
   "execution_count": 18,
   "metadata": {},
   "outputs": [
    {
     "ename": "TypeError",
     "evalue": "unsupported operand type(s) for +: 'int' and 'str'",
     "output_type": "error",
     "traceback": [
      "\u001b[1;31m---------------------------------------------------------------------------\u001b[0m",
      "\u001b[1;31mTypeError\u001b[0m                                 Traceback (most recent call last)",
      "\u001b[1;32m<ipython-input-18-6520036108b6>\u001b[0m in \u001b[0;36m<module>\u001b[1;34m\u001b[0m\n\u001b[0;32m      1\u001b[0m \u001b[0mx\u001b[0m\u001b[1;33m=\u001b[0m\u001b[1;36m90\u001b[0m\u001b[1;33m\u001b[0m\u001b[1;33m\u001b[0m\u001b[0m\n\u001b[0;32m      2\u001b[0m \u001b[0my\u001b[0m\u001b[1;33m=\u001b[0m\u001b[1;34m\"uio\"\u001b[0m\u001b[1;33m\u001b[0m\u001b[1;33m\u001b[0m\u001b[0m\n\u001b[1;32m----> 3\u001b[1;33m \u001b[0mprint\u001b[0m\u001b[1;33m(\u001b[0m\u001b[0mx\u001b[0m\u001b[1;33m+\u001b[0m\u001b[0my\u001b[0m\u001b[1;33m)\u001b[0m\u001b[1;33m\u001b[0m\u001b[1;33m\u001b[0m\u001b[0m\n\u001b[0m",
      "\u001b[1;31mTypeError\u001b[0m: unsupported operand type(s) for +: 'int' and 'str'"
     ]
    }
   ],
   "source": [
    "x=90\n",
    "y=\"uio\"\n",
    "print(x+y)"
   ]
  },
  {
   "cell_type": "code",
   "execution_count": 21,
   "metadata": {},
   "outputs": [
    {
     "data": {
      "text/plain": [
       "'mrudss'"
      ]
     },
     "execution_count": 21,
     "metadata": {},
     "output_type": "execute_result"
    }
   ],
   "source": [
    "def caseConversion(str):\n",
    "    return str\n",
    "caseConversion(\"mrudss\")"
   ]
  },
  {
   "cell_type": "markdown",
   "metadata": {},
   "source": [
    "# string function\n"
   ]
  },
  {
   "cell_type": "code",
   "execution_count": 3,
   "metadata": {},
   "outputs": [
    {
     "name": "stdout",
     "output_type": "stream",
     "text": [
      "ANIL\n",
      "anil\n"
     ]
    }
   ],
   "source": [
    "str= \"Anil\"\n",
    "print(str.upper())\n",
    "print(str.lower())"
   ]
  },
  {
   "cell_type": "raw",
   "metadata": {},
   "source": [
    "s =\"pyth(str.islower())"
   ]
  },
  {
   "cell_type": "code",
   "execution_count": 4,
   "metadata": {},
   "outputs": [
    {
     "name": "stdout",
     "output_type": "stream",
     "text": [
      "True\n"
     ]
    }
   ],
   "source": [
    "s= \"python\"\n",
    "print(s.islower())"
   ]
  },
  {
   "cell_type": "code",
   "execution_count": 5,
   "metadata": {},
   "outputs": [
    {
     "name": "stdout",
     "output_type": "stream",
     "text": [
      "True\n"
     ]
    }
   ],
   "source": [
    "s= \"5678\"\n",
    "print(s.isnumeric())\n"
   ]
  },
  {
   "cell_type": "markdown",
   "metadata": {},
   "source": [
    "# file heading in python"
   ]
  },
  {
   "cell_type": "markdown",
   "metadata": {},
   "source": [
    "### document contains info residing on perm.storage data types-doc, pdf,text,csv files and etc\n",
    "### open()- opens the file\n",
    "### close()- closes the file\n",
    "### \" r\"- for opening  the file for reading\n",
    "###  \"w\"- opens the file for writing,if the fileis not present it creates a file and then starts writing on it"
   ]
  },
  {
   "cell_type": "code",
   "execution_count": 2,
   "metadata": {},
   "outputs": [
    {
     "name": "stdout",
     "output_type": "stream",
     "text": [
      "file is created succesfully and data is written\n"
     ]
    }
   ],
   "source": [
    "def createfile(filename):\n",
    "    f= open(filename,\"w\")\n",
    "    for i in range(10):\n",
    "        f.write(\"this %d line\\n\"  %i)\n",
    "    print (\"file is created succesfully and data is written\")\n",
    "    f.close()\n",
    "    return\n",
    "createfile(\"file1.txt\")"
   ]
  },
  {
   "cell_type": "code",
   "execution_count": 3,
   "metadata": {},
   "outputs": [
    {
     "name": "stdout",
     "output_type": "stream",
     "text": [
      "this 0 line\n",
      "this 1 line\n",
      "this 2 line\n",
      "this 3 line\n",
      "this 4 line\n",
      "this 5 line\n",
      "this 6 line\n",
      "this 7 line\n",
      "this 8 line\n",
      "this 9 line\n",
      "\n"
     ]
    }
   ],
   "source": [
    "def readfile(filename):\n",
    "    f=open(filename,\"r\")\n",
    "    if f.mode ==\"r\":\n",
    "        x=f.read()\n",
    "        print(x)\n",
    "    f.close()\n",
    "    return\n",
    "readfile(\"file1.txt\")"
   ]
  },
  {
   "cell_type": "code",
   "execution_count": null,
   "metadata": {},
   "outputs": [],
   "source": []
  }
 ],
 "metadata": {
  "kernelspec": {
   "display_name": "Python 3",
   "language": "python",
   "name": "python3"
  },
  "language_info": {
   "codemirror_mode": {
    "name": "ipython",
    "version": 3
   },
   "file_extension": ".py",
   "mimetype": "text/x-python",
   "name": "python",
   "nbconvert_exporter": "python",
   "pygments_lexer": "ipython3",
   "version": "3.7.3"
  }
 },
 "nbformat": 4,
 "nbformat_minor": 2
}
