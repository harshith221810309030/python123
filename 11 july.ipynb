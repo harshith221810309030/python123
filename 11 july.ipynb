{
 "cells": [
  {
   "cell_type": "markdown",
   "metadata": {},
   "source": [
    "### Standard Libraries\n",
    "- File I/O\n",
    "- Reagular Expression\n",
    "- Datetime\n",
    "- Math (numerical and Mathematical)"
   ]
  },
  {
   "cell_type": "markdown",
   "metadata": {},
   "source": [
    "### File Handling in Python\n",
    "- File:- Document containing information resides on the permanenent storage\n",
    "- Different types of files :- txt,doc,pdf,csv etc\n",
    "- Input -- Keyboard\n",
    "- Output -- File"
   ]
  },
  {
   "cell_type": "markdown",
   "metadata": {},
   "source": [
    "### Modes of the file I/O\n",
    "- 'w'-- This mode is used to file writing \n",
    "\n",
    "      --If the file is not present first it creates the file and write so me data to it"
   ]
  },
  {
   "cell_type": "code",
   "execution_count": 4,
   "metadata": {},
   "outputs": [
    {
     "name": "stdout",
     "output_type": "stream",
     "text": [
      "File is created and data has written\n"
     ]
    }
   ],
   "source": [
    "def createFile(filename):\n",
    "   f = open(filename,'w')\n",
    "   for i in range(10):\n",
    "       f.write('This is %d Line\\n' % i)\n",
    "   print(\"File is created and data has written\")\n",
    "   return\n",
    "createFile('file1.txt')"
   ]
  },
  {
   "cell_type": "code",
   "execution_count": 13,
   "metadata": {},
   "outputs": [
    {
     "name": "stdout",
     "output_type": "stream",
     "text": [
      "File is created and successfully data has written\n"
     ]
    }
   ],
   "source": [
    "def appenddata(filename):\n",
    "  f = open(filename,'w')\n",
    "  for i in range(10):\n",
    "      f.write(\"new line 1 \\n\")\n",
    "      f.write(\"new line 2 \\n\")\n",
    "  print(\"File is created and successfully data has written\")\n",
    "  return\n",
    "appenddata('file2.txt')\n",
    "\n",
    "           "
   ]
  },
  {
   "cell_type": "code",
   "execution_count": 11,
   "metadata": {},
   "outputs": [
    {
     "name": "stdout",
     "output_type": "stream",
     "text": [
      "new line 1 \n",
      "new line 2 \n",
      "new line 1 \n",
      "new line 2 \n",
      "new line 1 \n",
      "new line 2 \n",
      "new line 1 \n",
      "new line 2 \n",
      "new line 1 \n",
      "new line 2 \n",
      "new line 1 \n",
      "new line 2 \n",
      "new line 1 \n",
      "new line 2 \n",
      "new line 1 \n",
      "new line 2 \n",
      "new line 1 \n",
      "new line 2 \n",
      "new line 1 \n",
      "new line 2 \n",
      "\n"
     ]
    }
   ],
   "source": [
    "def readfiledata(filename):\n",
    "   f = open(filename,'r')\n",
    "   if f.mode == 'r':\n",
    "       x = f.read()\n",
    "       print(x)\n",
    "   f.close()\n",
    "   return\n",
    "readfiledata('file2.txt')"
   ]
  },
  {
   "cell_type": "code",
   "execution_count": 1,
   "metadata": {},
   "outputs": [
    {
     "name": "stdout",
     "output_type": "stream",
     "text": [
      "Enter the file namefile2.txt\n",
      "Enter ther mode of the filer\n",
      "new line 1 \n",
      "new line 2 \n",
      "new line 1 \n",
      "new line 2 \n",
      "new line 1 \n",
      "new line 2 \n",
      "new line 1 \n",
      "new line 2 \n",
      "new line 1 \n",
      "new line 2 \n",
      "new line 1 \n",
      "new line 2 \n",
      "new line 1 \n",
      "new line 2 \n",
      "new line 1 \n",
      "new line 2 \n",
      "new line 1 \n",
      "new line 2 \n",
      "new line 1 \n",
      "new line 2 \n",
      "\n"
     ]
    }
   ],
   "source": [
    "# Fuction to read the file\n",
    "def fileOperations(filename,mode):\n",
    "   with open(filename,mode) as f:\n",
    "       if f.mode == 'r':\n",
    "           data = f.read()\n",
    "           print(data)\n",
    "       elif f.mode == 'a':\n",
    "           f.write('Data to the file')\n",
    "           print('The data successfully written')\n",
    "   f.close()\n",
    "   return\n",
    "filename = input('Enter the file name')\n",
    "mode = input('Enter ther mode of the file')\n",
    "fileOperations(filename,mode)"
   ]
  },
  {
   "cell_type": "code",
   "execution_count": null,
   "metadata": {},
   "outputs": [],
   "source": [
    "# data analysis\n",
    "# word count program"
   ]
  },
  {
   "cell_type": "code",
   "execution_count": 2,
   "metadata": {},
   "outputs": [
    {
     "name": "stdout",
     "output_type": "stream",
     "text": [
      "Enter the file name : file2.txt\n",
      "Enter the word : this\n"
     ]
    },
    {
     "data": {
      "text/plain": [
       "0"
      ]
     },
     "execution_count": 2,
     "metadata": {},
     "output_type": "execute_result"
    }
   ],
   "source": [
    "# Data Analysis\n",
    "# Word Count Program\n",
    "def wordCount(filename,word):\n",
    "  with open(filename,'r') as f:\n",
    "      if f.mode =='r':\n",
    "          x = f.read()\n",
    "          li = x.split()\n",
    "  cnt = li.count(word)\n",
    "  return cnt\n",
    "filename = input('Enter the file name : ')\n",
    "word = input('Enter the word : ')\n",
    "wordCount(filename,word)\n"
   ]
  },
  {
   "cell_type": "code",
   "execution_count": 3,
   "metadata": {},
   "outputs": [
    {
     "name": "stdout",
     "output_type": "stream",
     "text": [
      "enter the filename :file2.txt\n"
     ]
    },
    {
     "data": {
      "text/plain": [
       "240"
      ]
     },
     "execution_count": 3,
     "metadata": {},
     "output_type": "execute_result"
    }
   ],
   "source": [
    "# character count from the given file\n",
    "def charcount(filename):\n",
    "   with open(filename,'r') as f:\n",
    "       if f.mode == 'r':\n",
    "           x= f.read()\n",
    "           li = list(x)\n",
    "   return len(li)\n",
    "filename = input('enter the filename :')\n",
    "charcount(filename)\n"
   ]
  },
  {
   "cell_type": "code",
   "execution_count": 4,
   "metadata": {},
   "outputs": [
    {
     "name": "stdout",
     "output_type": "stream",
     "text": [
      "['python progr', 'ming']\n"
     ]
    }
   ],
   "source": [
    "s1=\"python programing\"\n",
    "print(s1.split('a'))"
   ]
  },
  {
   "cell_type": "code",
   "execution_count": 5,
   "metadata": {},
   "outputs": [
    {
     "name": "stdout",
     "output_type": "stream",
     "text": [
      "Enter the filename:file2.txt\n"
     ]
    },
    {
     "data": {
      "text/plain": [
       "21"
      ]
     },
     "execution_count": 5,
     "metadata": {},
     "output_type": "execute_result"
    }
   ],
   "source": [
    "def countoflines(filename):\n",
    "   with open(filename,'r') as f:\n",
    "       if f.mode=='r':\n",
    "           x=f.read()\n",
    "           li=x.split(\"\\n\")\n",
    "   return len(li)\n",
    "filename=input('Enter the filename:')\n",
    "countoflines(filename)"
   ]
  },
  {
   "cell_type": "code",
   "execution_count": 1,
   "metadata": {},
   "outputs": [
    {
     "name": "stdout",
     "output_type": "stream",
     "text": [
      "enter filename:file2.txt\n"
     ]
    },
    {
     "data": {
      "text/plain": [
       "'upper case = 0,lower case =140'"
      ]
     },
     "execution_count": 1,
     "metadata": {},
     "output_type": "execute_result"
    }
   ],
   "source": [
    "  \n",
    "def casecount(filename):\n",
    "   cntupper = 0\n",
    "   cntlower = 0\n",
    "   with open(filename,'r') as f:\n",
    "       if f.mode =='r':\n",
    "          x = f.read()\n",
    "          li=list(x)\n",
    "   for i in li:\n",
    "       if i.isupper():\n",
    "          cntupper +=1\n",
    "       elif i.islower():\n",
    "          cntlower +=1\n",
    "   output='upper case = {0},lower case ={1}'.format(cntupper,cntlower)\n",
    "   return output\n",
    "filename =input('enter filename:')\n",
    "casecount(filename)"
   ]
  },
  {
   "cell_type": "code",
   "execution_count": 2,
   "metadata": {},
   "outputs": [
    {
     "name": "stdout",
     "output_type": "stream",
     "text": [
      "C:\\Users\n"
     ]
    }
   ],
   "source": [
    "cd ..\n"
   ]
  },
  {
   "cell_type": "code",
   "execution_count": 3,
   "metadata": {},
   "outputs": [
    {
     "name": "stdout",
     "output_type": "stream",
     "text": [
      "[WinError 3] The system cannot find the path specified: 'Desktop/pytonprog'\n",
      "C:\\Users\n"
     ]
    }
   ],
   "source": [
    "cd Desktop/pytonprog"
   ]
  },
  {
   "cell_type": "code",
   "execution_count": 4,
   "metadata": {},
   "outputs": [
    {
     "name": "stdout",
     "output_type": "stream",
     "text": [
      " Volume in drive C has no label.\n",
      " Volume Serial Number is E224-B3DF\n",
      "\n",
      " Directory of C:\\Users\n",
      "\n",
      "29-05-2019  10:30    <DIR>          .\n",
      "29-05-2019  10:30    <DIR>          ..\n",
      "11-07-2019  14:32    <DIR>          211\n",
      "27-03-2019  11:44    <DIR>          exam\n",
      "14-07-2009  12:56    <DIR>          Public\n",
      "01-07-2019  11:25    <DIR>          student\n",
      "               0 File(s)              0 bytes\n",
      "               6 Dir(s)  50,729,885,696 bytes free\n"
     ]
    }
   ],
   "source": [
    "ls\n"
   ]
  },
  {
   "cell_type": "code",
   "execution_count": 5,
   "metadata": {},
   "outputs": [
    {
     "data": {
      "text/plain": [
       "'C:\\\\Users'"
      ]
     },
     "execution_count": 5,
     "metadata": {},
     "output_type": "execute_result"
    }
   ],
   "source": [
    "pwd\n"
   ]
  },
  {
   "cell_type": "code",
   "execution_count": 6,
   "metadata": {},
   "outputs": [
    {
     "ename": "NameError",
     "evalue": "name 'os' is not defined",
     "output_type": "error",
     "traceback": [
      "\u001b[1;31m---------------------------------------------------------------------------\u001b[0m",
      "\u001b[1;31mNameError\u001b[0m                                 Traceback (most recent call last)",
      "\u001b[1;32m<ipython-input-6-727ff2d3362c>\u001b[0m in \u001b[0;36m<module>\u001b[1;34m()\u001b[0m\n\u001b[0;32m      1\u001b[0m \u001b[1;32mfrom\u001b[0m \u001b[0mpathlib\u001b[0m \u001b[1;32mimport\u001b[0m \u001b[0mPath\u001b[0m\u001b[1;33m\u001b[0m\u001b[0m\n\u001b[0;32m      2\u001b[0m \u001b[0mdirPath\u001b[0m \u001b[1;33m=\u001b[0m \u001b[1;34m'C:\\\\Users'\u001b[0m\u001b[1;33m\u001b[0m\u001b[0m\n\u001b[1;32m----> 3\u001b[1;33m \u001b[1;32mfor\u001b[0m \u001b[0mi\u001b[0m \u001b[1;32min\u001b[0m \u001b[0mos\u001b[0m\u001b[1;33m.\u001b[0m\u001b[0mlistdir\u001b[0m\u001b[1;33m(\u001b[0m\u001b[0mdirPath\u001b[0m\u001b[1;33m)\u001b[0m\u001b[1;33m:\u001b[0m\u001b[1;33m\u001b[0m\u001b[0m\n\u001b[0m\u001b[0;32m      4\u001b[0m    \u001b[1;32mif\u001b[0m \u001b[0mos\u001b[0m\u001b[1;33m.\u001b[0m\u001b[0mpath\u001b[0m\u001b[1;33m.\u001b[0m\u001b[0misdir\u001b[0m\u001b[1;33m(\u001b[0m\u001b[0mos\u001b[0m\u001b[1;33m.\u001b[0m\u001b[0mpath\u001b[0m\u001b[1;33m.\u001b[0m\u001b[0mjoin\u001b[0m\u001b[1;33m(\u001b[0m\u001b[0mdirPath\u001b[0m\u001b[1;33m,\u001b[0m\u001b[0mi\u001b[0m\u001b[1;33m)\u001b[0m\u001b[1;33m)\u001b[0m\u001b[1;33m:\u001b[0m\u001b[1;33m\u001b[0m\u001b[0m\n\u001b[0;32m      5\u001b[0m        \u001b[0mprint\u001b[0m\u001b[1;33m(\u001b[0m\u001b[0mi\u001b[0m\u001b[1;33m)\u001b[0m\u001b[1;33m\u001b[0m\u001b[0m\n",
      "\u001b[1;31mNameError\u001b[0m: name 'os' is not defined"
     ]
    }
   ],
   "source": [
    "from pathlib import Path\n",
    "dirPath = 'C:\\\\Users's\n",
    "for i in os.listdir(dirPath):\n",
    "   if os.path.isdir(os.path.join(dirPath,i)):\n",
    "       print(i)\n",
    "\n",
    "        "
   ]
  },
  {
   "cell_type": "code",
   "execution_count": null,
   "metadata": {},
   "outputs": [],
   "source": []
  }
 ],
 "metadata": {
  "kernelspec": {
   "display_name": "Python 3",
   "language": "python",
   "name": "python3"
  },
  "language_info": {
   "codemirror_mode": {
    "name": "ipython",
    "version": 3
   },
   "file_extension": ".py",
   "mimetype": "text/x-python",
   "name": "python",
   "nbconvert_exporter": "python",
   "pygments_lexer": "ipython3",
   "version": "3.6.5"
  }
 },
 "nbformat": 4,
 "nbformat_minor": 2
}
